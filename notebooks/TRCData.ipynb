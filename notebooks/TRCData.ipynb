{
 "cells": [
  {
   "cell_type": "code",
   "execution_count": null,
   "id": "020269fa",
   "metadata": {},
   "outputs": [
    {
     "name": "stdout",
     "output_type": "stream",
     "text": [
      "Successfully fetched the page\n",
      "Successfully found highstockdata\n",
      "Table found\n",
      "365\n",
      "            timestamp  value  year  month yyyy-mm\n",
      "0 2024-05-07 12:00:00    135  2024      5  May-24\n",
      "1 2024-05-08 12:00:00    144  2024      5  May-24\n",
      "2 2024-05-09 12:00:00    145  2024      5  May-24\n",
      "3 2024-05-10 12:00:00    153  2024      5  May-24\n",
      "4 2024-05-11 12:00:00    123  2024      5  May-24\n"
     ]
    },
    {
     "data": {
      "text/plain": [
       "<Axes: ylabel='Frequency'>"
      ]
     },
     "execution_count": 31,
     "metadata": {},
     "output_type": "execute_result"
    },
    {
     "data": {
      "image/png": "[encoded data removed]",
      "text/plain": [
       "<Figure size 640x480 with 1 Axes>"
      ]
     },
     "metadata": {},
     "output_type": "display_data"
    }
   ],
   "source": [
    "import pandas as pd\n",
    "import matplotlib as plt\n",
    "import seaborn as sns\n",
    "import requests\n",
    "import json\n",
    "\n",
    "base_url = \"https://www.trc.govt.nz/environment/maps-and-data/site-details/LoadGraphAndListData/\"\n",
    "site_link = \"?siteID=\"\n",
    "measure_link = \"&measureID=\"\n",
    "time_link = \"&timePeriod=\"\n",
    "date_link = \"&fromDate=\"\n",
    "\n",
    "sites = {\n",
    "    \"id\": [8, 32, 33, 4, 42, 24],\n",
    "    \"site\": [\"Kapoaiaia at Cape Egmont\", \"Stony at Mangatete Bridge\", \"Taungatara at Eltham Road\", \"Waiwhakaiho at Hillsborough\", \"Waitara at Bertrand Road\", \"North Egmont at Visitor Centre\"],\n",
    "    \"wd\": [True, False, True, True, False, False],\n",
    "    \"wg\": [True, False, True, True, False, False],\n",
    "    \"ws\": [True, False, True, True, False, False],\n",
    "    \"at\": [True, True, True, True, False, True],\n",
    "    \"rf\": [True, True, True, True, True, True],\n",
    "    \"cu\": [True, True, True, True, True, False],\n",
    "    \"ht\": [True, True, True, True, False, False],\n",
    "    \"sm\": [True, False, True, True, False, False]\n",
    "}\n",
    "df_sites = pd.DataFrame(sites)\n",
    "\n",
    "#Add a comment on measures\n",
    "\n",
    "measures = {\n",
    "    \"id\": [10, 4, 2, 3, 1, 9, 7, 5],\n",
    "    \"label\": [\"wg\", \"wd\", \"ws\", \"at\", \"rf\", \"cu\", \"ht\", \"sm\"],\n",
    "    \"description\": [\"Wind Gust\", \"Wind Direction\", \"Wind Speed\", \"Air Temperature\", \"Rainfall\", \"River Flow\", \"River Level\", \"Soil Moisture\"],\n",
    "    \"weather\": [True, True, True, True, True, False, False, False],\n",
    "    \"river\": [False, False, False, False, True, True, True, True]\n",
    "}\n",
    "df_measures = pd.DataFrame(measures)\n",
    "\n",
    "timelink = {\n",
    "    \"id\": [1, 2, 3],\n",
    "    \"label\": [\"7days\", \"30days\", \"365days\"]\n",
    "}\n",
    "df_timelink = pd.DataFrame(timelink)\n",
    "\n",
    "test_link = base_url + site_link + \"8\" + measure_link + \"4\" + time_link + \"365days\"\n",
    "\n",
    "try:\n",
    "    response = requests.get(test_link)\n",
    "    response.raise_for_status()\n",
    "    print(\"Successfully fetched the page\")\n",
    "\n",
    "# response_data_string = response.text # Get the text content\n",
    "# data = json.loads(response_data_string)\n",
    "\n",
    "    response_data_string = response.text\n",
    "    data = json.loads(response_data_string)\n",
    "    raw_data = data.get('highStockData')\n",
    "    print(\"Successfully found highstockdata\")\n",
    "    \n",
    "    if raw_data:\n",
    "        print(\"Table found\")\n",
    "        print(len(raw_data))\n",
    "        df_data = pd.DataFrame(raw_data, columns=['timestamp', 'value'])\n",
    "        df_data['timestamp'] = pd.to_datetime(df_data['timestamp'], unit='ms')\n",
    "        df_data['year'] = pd.DatetimeIndex(df_data['timestamp']).year\n",
    "        df_data['month'] = pd.DatetimeIndex(df_data['timestamp']).month\n",
    "        df_data['mm-yyyy'] = df_data['timestamp'].apply(lambda x: x.strftime('%B-%y'))\n",
    "        \n",
    "        \n",
    "    print(df_data.head())\n",
    "    \n",
    "except: pass\n",
    "\n",
    "df_data.plot(kind = 'hist', x = 'timestamp', y = 'value')\n",
    "\n"
   ]
  }
 ],
 "metadata": {
  "kernelspec": {
   "display_name": ".venv",
   "language": "python",
   "name": "python3"
  },
  "language_info": {
   "codemirror_mode": {
    "name": "ipython",
    "version": 3
   },
   "file_extension": ".py",
   "mimetype": "text/x-python",
   "name": "python",
   "nbconvert_exporter": "python",
   "pygments_lexer": "ipython3",
   "version": "3.12.10"
  }
 },
 "nbformat": 4,
 "nbformat_minor": 5
}
