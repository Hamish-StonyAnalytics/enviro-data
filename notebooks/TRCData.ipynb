{
 "cells": [
  {
   "cell_type": "markdown",
   "id": "9c2faf4e",
   "metadata": {},
   "source": [
    "### Taranaki Regional Council: Environmental Data\n",
    "Taranaki Regional Council make available a variety of environmental data through their website: https://www.trc.govt.nz/environment/maps-and-data/regional-overview\n",
    "From within each site various data is collected for example\n",
    "<ul><li>wind (direction, speed, gust)</li> <li>rainfall</li> <li>river (flow, height, dissolved O2, temperature)</li> <li>soil (moisture, temperature)</li></ul>\n",
    "Data is available for<ul><li>365 days (daily record)</li> <li>30 days (hourly record)</li><li>7 days (10 minute record)</li></ul>\n",
    "It is possible to set a starting from date to compile historical data sets from the regional council website.\n",
    "Although inspecting a data type for a site may offer up a related data type, this is restricted to what is set in the website.\n",
    "<br><br>\n",
    "The following code demonstrates the possibility of extracting raw data and inspecting a chosen data type against any other data type available within a site, but also comparing similar data types across multiple sites concurrently."
   ]
  },
  {
   "cell_type": "code",
   "execution_count": 10,
   "id": "020269fa",
   "metadata": {},
   "outputs": [
    {
     "data": {
      "text/plain": [
       "<Axes: ylabel='Frequency'>"
      ]
     },
     "execution_count": 10,
     "metadata": {},
     "output_type": "execute_result"
    },
    {
     "data": {
      "image/png": "[encoded data removed]",
      "text/plain": [
       "<Figure size 640x480 with 1 Axes>"
      ]
     },
     "metadata": {},
     "output_type": "display_data"
    }
   ],
   "source": [
    "import pandas as pd\n",
    "import matplotlib as plt\n",
    "import seaborn as sns\n",
    "import requests\n",
    "import json\n",
    "import sys, os\n",
    "sys.path.insert(0, os.path.abspath(\"..\"))\n",
    "\n",
    "from src.TRCSampleDF import sites_dataframe, measures_dataframe\n",
    "\n",
    "# Define url parts for accessing TRC Environmental Data\n",
    "base_url = \"https://www.trc.govt.nz/environment/maps-and-data/site-details/LoadGraphAndListData/\"\n",
    "site_link = \"?siteID=\"\n",
    "measure_link = \"&measureID=\"\n",
    "time_link = \"&timePeriod=\"\n",
    "date_link = \"&fromDate=\"\n",
    "\n",
    "# Set up dataframes with the id codes that are passed into the url when building the master data dataframe\n",
    "df_sites = sites_dataframe()\n",
    "df_measures = measures_dataframe()\n",
    "\n",
    "timelink = {\n",
    "    \"id\": [1, 2, 3],\n",
    "    \"label\": [\"7days\", \"30days\", \"365days\"]\n",
    "}\n",
    "df_timelink = pd.DataFrame(timelink)\n",
    "\n",
    "test_link = base_url + site_link + \"8\" + measure_link + \"4\" + time_link + \"365days\"\n",
    "\n",
    "try:\n",
    "    response = requests.get(test_link)\n",
    "    response.raise_for_status()\n",
    "\n",
    "    response_data_string = response.text\n",
    "    data = json.loads(response_data_string)\n",
    "    raw_data = data.get('highStockData')\n",
    "       \n",
    "    if raw_data:\n",
    "        df_data = pd.DataFrame(raw_data, columns=['timestamp', 'value'])\n",
    "        df_data['timestamp'] = pd.to_datetime(df_data['timestamp'], unit='ms')\n",
    "        df_data['year'] = pd.DatetimeIndex(df_data['timestamp']).year\n",
    "        df_data['month'] = pd.DatetimeIndex(df_data['timestamp']).month\n",
    "        df_data['mm-yyyy'] = df_data['timestamp'].apply(lambda x: x.strftime('%B-%y'))\n",
    "    \n",
    "except: pass\n",
    "\n",
    "df_data.plot(kind = 'hist', x = 'timestamp', y = 'value')\n",
    "\n"
   ]
  }
 ],
 "metadata": {
  "kernelspec": {
   "display_name": ".venv",
   "language": "python",
   "name": "python3"
  },
  "language_info": {
   "codemirror_mode": {
    "name": "ipython",
    "version": 3
   },
   "file_extension": ".py",
   "mimetype": "text/x-python",
   "name": "python",
   "nbconvert_exporter": "python",
   "pygments_lexer": "ipython3",
   "version": "3.12.10"
  }
 },
 "nbformat": 4,
 "nbformat_minor": 5
}
