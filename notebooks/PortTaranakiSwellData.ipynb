{
 "cells": [
  {
   "cell_type": "markdown",
   "id": "fee55ed5",
   "metadata": {},
   "source": [
    "# **Port Taranaki: Swell Buoy Data**\n",
    "\n",
    "---\n",
    "\n",
    "Port Taranaki presents data from it's swell buoys at https://www.porttaranaki.co.nz/shipping-and-sea/sea-conditions/\n",
    "\n",
    "Unfortunately, there is no tabular data to download. Rather, on an approximately 5 minute schedule, images with data and charts are refreshed.\n",
    "To be able to compile timeseries data, ocr is used to extract the text from the jpg files and written into a dataframe. In the example below, data is taken for the Triaxys Buoy. A step not included here is running initial text recognition and finding the bounding box coordinates for all text relating to Triaxy Buoy.  \n",
    "\n",
    "Two image files are downloaded and cropped. The Triaxys image itself has easily read data, however the swell direction is written on top of the datetime. Cropping the swell data from the Summary image is not consistently read, however the swell direction often is.  \n",
    "\n",
    "One example of using this data alongside Taranaki Regional Council environmental data would be a notification system for surf quality, or when a new groundswell has popped up :)\n",
    "\n",
    "---"
   ]
  },
  {
   "cell_type": "code",
   "execution_count": 11,
   "id": "a0870c95",
   "metadata": {},
   "outputs": [
    {
     "name": "stderr",
     "output_type": "stream",
     "text": [
      "Using CPU. Note: This module is much faster with a GPU.\n"
     ]
    },
    {
     "name": "stdout",
     "output_type": "stream",
     "text": [
      "Peak Period 8.70\n",
      "Mean Period 5.60\n",
      "Max Height 3.55\n",
      "Highest 10th 2.42\n",
      "Sig Height 1.90\n",
      "Swell Direction 257\n"
     ]
    }
   ],
   "source": [
    "import easyocr\n",
    "import requests\n",
    "import cv2\n",
    "import pandas as pd\n",
    "import os\n",
    "import random\n",
    "\n",
    "def get_image():\n",
    "    filepath = (['EnviewJSummary.jpg', 'EnviewJTriaxysWave.jpg'])\n",
    "    img_url_base = 'https://www.porttaranaki.co.nz/sea-conditions-feeds/'\n",
    "    for i in range(0, len(filepath)):\n",
    "        img_url = img_url_base + filepath[i] + '?lt=1747596540'\n",
    "        r = requests.get(img_url)\n",
    "        additional = random.randint(100, 999)\n",
    "        img_url = img_url_base + filepath[i] + '?lt=1747596540' + str(additional)\n",
    "        r = requests.get(img_url)\n",
    "        sc = r.status_code\n",
    "        if r.status_code == 200:\n",
    "            with open(filepath[i], 'wb') as f:\n",
    "                f.write(r.content)\n",
    "        else: print(f\"status_code {sc} {filepath[i]}\")\n",
    "        \n",
    "get_image()\n",
    "\n",
    "def crop_image():\n",
    "    reader = easyocr.Reader(['en'], gpu = False)\n",
    "    img_triaxys = cv2.imread(\"EnviewJTriaxysWave.jpg\")\n",
    "    img_summary = cv2.imread(\"EnviewJSummary.jpg\")\n",
    "    #recorded_dt = datetime.now()\n",
    "    \n",
    "    file_name = 'df_swell_data.csv'\n",
    "    if os.path.exists(file_name):\n",
    "        df_swell_data = pd.read_csv(file_name)\n",
    "    else:\n",
    "        df_swell_data = pd.DataFrame(columns = ['measurement', 'value', 'measure_datetime'])\n",
    "    \n",
    "    # Get the date time first.\n",
    "    cropped_triaxys_img_dt = img_triaxys[0:22, 832:1016] # bounding points for datetime\n",
    "    cv2.imwrite('cropped_image_triaxys_dt.jpg', cropped_triaxys_img_dt)\n",
    "    new_img_triaxys_dt = 'cropped_image_triaxys_dt.jpg'\n",
    "    results_triaxys_dt = reader.readtext(new_img_triaxys_dt)\n",
    "    df_text_triaxys_dt = pd.DataFrame(results_triaxys_dt, columns=['bbox', 'text', 'confidence'])\n",
    "    swell_dt = df_text_triaxys_dt['text'].iloc[0]\n",
    "    \n",
    "    cropped_summary_img = img_summary[45:120, 110:295] # bounding points for triaxys buoy text\n",
    "    cv2.imwrite('cropped_image_summary.jpg', cropped_summary_img)\n",
    "    new_img_summary = \"cropped_image_summary.jpg\"\n",
    "    results_summary = reader.readtext(new_img_summary)\n",
    "    df_text_summary = pd.DataFrame(results_summary, columns=['bbox', 'text', 'confidence'])\n",
    "    n_summary = len(df_text_summary) -1\n",
    "    swell_direction = pd.DataFrame({\"measurement\": 'Swell Direction', \"value\": df_text_summary['text'].iloc[n_summary], \"measure_datetime\": swell_dt}, index=[0])\n",
    "    #df_text_summary['dt'] = swell_dt\n",
    "    \n",
    "    cropped_triaxys_img = img_triaxys[27:225, 881:970] #bounding points for triaxys data\n",
    "    cv2.imwrite('cropped_image_triaxys.jpg', cropped_triaxys_img)\n",
    "    new_img_triaxys = \"cropped_image_triaxys.jpg\"\n",
    "    results_triaxys = reader.readtext(new_img_triaxys)\n",
    "    df_text_triaxys = pd.DataFrame(results_triaxys, columns=['bbox', 'text', 'confidence'])\n",
    "    peak_period = pd.DataFrame({\"measurement\": 'Peak Period', \"value\": df_text_triaxys['text'].iloc[0], \"measure_datetime\": swell_dt}, index=[0])\n",
    "    mean_period = pd.DataFrame({\"measurement\": 'Mean Period', \"value\": df_text_triaxys['text'].iloc[1], \"measure_datetime\": swell_dt}, index=[0])\n",
    "    max_wave = pd.DataFrame({\"measurement\": 'Max Wave', \"value\": df_text_triaxys['text'].iloc[2], \"measure_datetime\": swell_dt}, index=[0])\n",
    "    highest_10th = pd.DataFrame({\"measurement\": 'Highest 10th', \"value\": df_text_triaxys['text'].iloc[3], \"measure_datetime\": swell_dt}, index=[0])\n",
    "    sig_height = pd.DataFrame({\"measurement\": 'Sig Height', \"value\": df_text_triaxys['text'].iloc[4], \"measure_datetime\": swell_dt}, index=[0])\n",
    "    df_swell_data = pd.concat([df_swell_data, peak_period, mean_period, max_wave, highest_10th, sig_height, swell_direction], ignore_index=True)\n",
    "    \n",
    "    df_swell_data = df_swell_data.drop_duplicates() #need to remove recorded_dt to work\n",
    "    df_swell_data.to_csv('df_swell_data.csv', index_label=False)    \n",
    "    \n",
    "    return(df_swell_data)\n",
    "\n",
    "def swell_parameters():\n",
    "    df_swell = crop_image()\n",
    "    df_swell = df_swell.tail(6)\n",
    "    s_peak_period = df_swell['value'].iloc[0]\n",
    "    s_mean_period = df_swell['value'].iloc[1]\n",
    "    s_max_height = df_swell['value'].iloc[2]\n",
    "    s_highest_10th = df_swell['value'].iloc[3]\n",
    "    s_sig_height = df_swell['value'].iloc[4]\n",
    "    s_swell_dir = df_swell['value'].iloc[5]\n",
    "    print(f\"Peak Period {s_peak_period}\")\n",
    "    print(f\"Mean Period {s_mean_period}\")\n",
    "    print(f\"Max Height {s_max_height}\")\n",
    "    print(f\"Highest 10th {s_highest_10th}\")\n",
    "    print(f\"Sig Height {s_sig_height}\")\n",
    "    print(f\"Swell Direction {s_swell_dir}\")\n",
    "\n",
    "swell_parameters()"
   ]
  },
  {
   "cell_type": "markdown",
   "id": "d8928471",
   "metadata": {},
   "source": []
  }
 ],
 "metadata": {
  "kernelspec": {
   "display_name": ".venv",
   "language": "python",
   "name": "python3"
  },
  "language_info": {
   "codemirror_mode": {
    "name": "ipython",
    "version": 3
   },
   "file_extension": ".py",
   "mimetype": "text/x-python",
   "name": "python",
   "nbconvert_exporter": "python",
   "pygments_lexer": "ipython3",
   "version": "3.12.10"
  }
 },
 "nbformat": 4,
 "nbformat_minor": 5
}
